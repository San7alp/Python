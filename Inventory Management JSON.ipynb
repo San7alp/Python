{
 "cells": [
  {
   "cell_type": "code",
   "execution_count": 1,
   "id": "571b7c70",
   "metadata": {},
   "outputs": [],
   "source": [
    "record={1:{\"Name\":\"5Star\",\"Price\":10,\"Qn\":50},\n",
    "        2:{\"Name\":\"Milk\",\"Price\":30,\"Qn\":10},\n",
    "        3:{\"Name\":\"Eggs\",\"Price\":6,\"Qn\":30},\n",
    "        4:{\"Name\":\"Biscuits\",\"Price\":20,\"Qn\":10},\n",
    "        5:{\"Name\":\"Rice\",\"Price\":40,\"Qn\":15}}"
   ]
  },
  {
   "cell_type": "code",
   "execution_count": 3,
   "id": "d2d13692",
   "metadata": {},
   "outputs": [
    {
     "name": "stdout",
     "output_type": "stream",
     "text": [
      "--------------------MENU-------------------\n",
      "1 : 5Star : 10 : 0\n",
      "2 : Milk : 30 : 0\n",
      "3 : Eggs : 6 : 20\n",
      "4 : Biscuits : 20 : 8\n",
      "5 : Rice : 40 : 15\n",
      "-------------------------------------------\n",
      "What is your namesank\n",
      "What is your phone number12345678\n",
      "What is the id of the product3\n",
      "What is the amount of product needed?30\n",
      "--------------------BILL-------------------\n",
      "Product ID: 3\n",
      "Name: sank\n",
      "Phone Number: 12345678\n",
      "Product Amount: 20\n",
      "Product Name: Eggs\n",
      "Product Price: 6\n",
      "Total Price: 120\n",
      "-------------------------------------------\n"
     ]
    }
   ],
   "source": [
    "import json\n",
    "import time\n",
    "sale=''\n",
    "fd=open(\"Records.json\",\"r\")\n",
    "js=fd.read()\n",
    "fd.close()\n",
    "record=json.loads(js)\n",
    "print(\"--------------------MENU-------------------\")\n",
    "for key in record.keys():\n",
    "    print(key,\":\",record[key][\"Name\"],\":\",record[key][\"Price\"],\":\",record[key][\"Qn\"])\n",
    "print(\"-------------------------------------------\")\n",
    "name=input(\"What is your name\")\n",
    "ph=input(\"What is your phone number\")\n",
    "nid=str(input(\"What is the id of the product\"))\n",
    "namt=input(\"What is the amount of product needed?\")\n",
    "print(\"--------------------BILL-------------------\")\n",
    "print(\"Product ID:\",nid)\n",
    "for key in record.keys():\n",
    "    if(nid==key):\n",
    "        if(int(namt)<=record[key][\"Qn\"]):\n",
    "            record[key][\"Qn\"]=record[key][\"Qn\"]-int(namt)\n",
    "            print(\"Name:\",name)\n",
    "            print(\"Phone Number:\",ph)\n",
    "            print(\"Product Amount:\",namt)\n",
    "            print(\"Product Name:\",record[key][\"Name\"])\n",
    "            print(\"Product Price:\",record[key][\"Price\"])\n",
    "            print(\"Total Price:\",int(namt)*int(record[key][\"Price\"]))\n",
    "            sale=(name+\",\"+ph+\",\"+record[key][\"Name\"]+\",\"+namt+\",\"+str(int(namt)*int(record[key][\"Price\"]))+\",\"+time.ctime())+\"\\n\"\n",
    "        else:\n",
    "            print(\"Name:\",name)\n",
    "            print(\"Phone Number:\",ph)\n",
    "            print(\"Product Amount:\",record[key][\"Qn\"])\n",
    "            print(\"Product Name:\",record[key][\"Name\"])\n",
    "            print(\"Product Price:\",record[key][\"Price\"])\n",
    "            print(\"Total Price:\",int(record[key][\"Qn\"])*int(record[key][\"Price\"]))\n",
    "\n",
    "            sale=(name+\",\"+ph+\",\"+record[key][\"Name\"]+\",\"+str(record[key][\"Qn\"])+\",\"+str(int(record[key][\"Qn\"])*int(record[key][\"Price\"]))+\",\"+time.ctime())+\"\\n\"\n",
    "            record[key][\"Qn\"]=0\n",
    "            \n",
    "print(\"-------------------------------------------\")\n",
    "\n",
    "fd=open(\"SalesJson.txt\",\"a\")\n",
    "fd.write(sale)\n",
    "fd.close()\n",
    "\n",
    "js=json.dumps(record)\n",
    "fd=open(\"Records.json\",\"w\")\n",
    "fd.write(js)\n",
    "fd.close()\n",
    "        \n",
    "\n"
   ]
  },
  {
   "cell_type": "code",
   "execution_count": 13,
   "id": "b076c4ec",
   "metadata": {},
   "outputs": [
    {
     "name": "stdout",
     "output_type": "stream",
     "text": [
      " Volume in drive C is Windows-SSD\n",
      " Volume Serial Number is 2CD7-88B3\n",
      "\n",
      " Directory of C:\\Users\\KIIT\\PycharmProjects\\Py projects\n",
      "\n",
      "08-05-2024  21:55    <DIR>          .\n",
      "06-05-2024  18:26    <DIR>          ..\n",
      "08-05-2024  15:28    <DIR>          .ipynb_checkpoints\n",
      "06-05-2024  19:08             1,849 Data.txt\n",
      "06-05-2024  21:12            25,510 DataReadingFromFile.ipynb\n",
      "06-05-2024  18:34               915 HelloWorld.ipynb\n",
      "08-05-2024  21:53             4,518 Inventory Management JSON.ipynb\n",
      "07-05-2024  21:54                60 Inventory.txt\n",
      "07-05-2024  22:07             6,242 InventoryManagement.ipynb\n",
      "06-05-2024  20:39               188 Newfile.txt\n",
      "08-05-2024  21:55               231 Records.json\n",
      "07-05-2024  22:07               120 Sales.txt\n",
      "08-05-2024  21:55                57 SalesJson.txt\n",
      "              10 File(s)         39,690 bytes\n",
      "               3 Dir(s)  187,227,725,824 bytes free\n"
     ]
    }
   ],
   "source": [
    "%ls\n"
   ]
  }
 ],
 "metadata": {
  "kernelspec": {
   "display_name": "Python 3 (ipykernel)",
   "language": "python",
   "name": "python3"
  },
  "language_info": {
   "codemirror_mode": {
    "name": "ipython",
    "version": 3
   },
   "file_extension": ".py",
   "mimetype": "text/x-python",
   "name": "python",
   "nbconvert_exporter": "python",
   "pygments_lexer": "ipython3",
   "version": "3.11.7"
  }
 },
 "nbformat": 4,
 "nbformat_minor": 5
}
