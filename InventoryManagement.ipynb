{
 "cells": [
  {
   "cell_type": "code",
   "execution_count": 5,
   "id": "5b3cddff",
   "metadata": {},
   "outputs": [],
   "source": [
    "fd=open(\"Inventory.txt\",\"w\")\n",
    "fd.close()"
   ]
  },
  {
   "cell_type": "code",
   "execution_count": null,
   "id": "bd60374d",
   "metadata": {},
   "outputs": [],
   "source": [
    "fd=open(\"inventory.txt\",\"a\")\n",
    "txt=input(\"Enter the products\")\n",
    "txt=txt+\"\\n\"\n",
    "fd.write(txt)\n",
    "fd.close()"
   ]
  },
  {
   "cell_type": "code",
   "execution_count": 8,
   "id": "29765cb0",
   "metadata": {},
   "outputs": [],
   "source": [
    "fd=open(\"Inventory.txt\",\"r\")\n",
    "txt=fd.read()\n",
    "fd.close()"
   ]
  },
  {
   "cell_type": "code",
   "execution_count": 9,
   "id": "c8c1cd49",
   "metadata": {},
   "outputs": [
    {
     "name": "stdout",
     "output_type": "stream",
     "text": [
      "1,5 Star,5,45\n",
      "2,Milky Bar,5,100\n",
      "3,Cake,300,5\n",
      "4,Candy,1,200\n"
     ]
    }
   ],
   "source": [
    "products=txt.split(\"\\n\")\n",
    "for i in products:\n",
    "    print(i)"
   ]
  },
  {
   "cell_type": "code",
   "execution_count": 36,
   "id": "6ff31c23",
   "metadata": {},
   "outputs": [
    {
     "name": "stdout",
     "output_type": "stream",
     "text": [
      "1,5 Star,5,0\n",
      "2,Milky Bar,5,100\n",
      "3,Cake,300,5\n",
      "4,Candy,1,196\n",
      "Enter your name:sankalp\n",
      "Enter your phone no:93330266977\n",
      "Enter your Email:s@gmail.com\n",
      "Enter the product ID:3\n",
      "No of products:5\n",
      "--------------------\n",
      "Name          : sankalp\n",
      "Phone No      : 93330266977\n",
      "Email         : s@gmail.com\n",
      "Product ID    : 3\n",
      "Product Name  : Cake\n",
      "Product Price : 300\n",
      "Product Amt   : 5\n",
      "Total Price   : 1500\n",
      "--------------------\n"
     ]
    }
   ],
   "source": [
    "import time\n",
    "fd=open(\"Inventory.txt\",\"r\")\n",
    "txt=fd.read()\n",
    "fd.close()\n",
    "products=txt.split(\"\\n\")\n",
    "for i in products:\n",
    "    print(i)\n",
    "    \n",
    "Name=input(\"Enter your name:\")\n",
    "Ph=input(\"Enter your phone no:\")\n",
    "Mail=input(\"Enter your Email:\")\n",
    "neededprod=input(\"Enter the product ID:\")\n",
    "prod_amt=input(\"No of products:\")\n",
    "updated_list=[]\n",
    "for product in products:\n",
    "    prod_details=product.split(',')\n",
    "    if(prod_details[0]==neededprod):\n",
    "        if(int(prod_amt)<=int(prod_details[3])):\n",
    "            print('-'*20)\n",
    "            print(\"Name          :\",Name)\n",
    "            print(\"Phone No      :\",Ph)\n",
    "            print(\"Email         :\",Mail)\n",
    "            print(\"Product ID    :\",prod_details[0])\n",
    "            print(\"Product Name  :\",prod_details[1])\n",
    "            print(\"Product Price :\",prod_details[2])\n",
    "            print(\"Product Amt   :\",prod_amt)\n",
    "            print(\"Total Price   :\",int(prod_details[2])*int(prod_amt))\n",
    "            print('-'*20)\n",
    "            prod_details[3]=str(int(prod_details[3])-int(prod_amt))\n",
    "            fd=open(\"Sales.txt\",\"a\")\n",
    "            sales=Name+\",\"+Ph+\",\"+Mail+\",\"+prod_details[0]+\",\"+prod_details[1]+\",\"+prod_details[2]+\",\"+str(prod_amt)+\",\"+str(int(prod_details[2])*int(prod_amt))+\",\"+time.ctime()+\"\\n\"\n",
    "            fd.write(sales)\n",
    "            fd.close()\n",
    "            \n",
    "        else:\n",
    "            print(\"Sorry We only have\",prod_details[3],prod_details[1])\n",
    "            print(\"Would you like to purchase it?\")\n",
    "            ch=input(\"Press Y/N\")\n",
    "            if(ch=='Y' or ch=='y'):\n",
    "                print('-'*20)\n",
    "                print(\"Name          :\",Name)\n",
    "                print(\"Phone No      :\",Ph)\n",
    "                print(\"Email         :\",Mail)\n",
    "                print(\"Product ID    :\",prod_details[0])\n",
    "                print(\"Product Name  :\",prod_details[1])\n",
    "                print(\"Product Price :\",prod_details[2])\n",
    "                print(\"Product Amt   :\",prod_details[3])\n",
    "                print(\"Total Price   :\",int(prod_details[2])*int(prod_details[3]))\n",
    "                print('-'*20)\n",
    "                prod_details[3]='0'\n",
    "                fd=open(\"Sales.txt\",\"a\")\n",
    "                sales=Name+\",\"+Ph+\",\"+Mail+\",\"+prod_details[0]+\",\"+prod_details[1]+\",\"+prod_details[2]+\",\"+prod_details[3]+\",\"+str(int(prod_details[2])*int(prod_details[3]))+time.ctime()+\"\\n\"\n",
    "                fd.write(sales)\n",
    "                fd.close()\n",
    "                \n",
    "    updated_list.append(prod_details)\n",
    "lst=[]\n",
    "for i in updated_list:\n",
    "            prod = i[0] + \",\" + i[1] + \",\" + i[2] + \",\" + i[3] + \"\\n\"\n",
    "            lst.append(prod)\n",
    "lst[-1]=lst[-1][:-1]\n",
    "fd=open(\"Inventory.txt\",\"w\")\n",
    "for i in lst:\n",
    "    fd.write(i)\n",
    "fd.close()\n",
    "        \n",
    "        "
   ]
  },
  {
   "cell_type": "code",
   "execution_count": 28,
   "id": "777ee9a9",
   "metadata": {},
   "outputs": [
    {
     "name": "stdout",
     "output_type": "stream",
     "text": [
      "['1', '5 Star', '5', '0']\n",
      "['2', 'Milky Bar', '5', '100']\n",
      "['3', 'Cake', '300', '5']\n",
      "['4', 'Candy', '1', '196']\n",
      "Tue May  7 21:51:33 2024\n"
     ]
    }
   ],
   "source": [
    "for i in updated_list:\n",
    "    print(i)\n",
    "import time\n",
    "print(time.ctime())"
   ]
  }
 ],
 "metadata": {
  "kernelspec": {
   "display_name": "Python 3 (ipykernel)",
   "language": "python",
   "name": "python3"
  },
  "language_info": {
   "codemirror_mode": {
    "name": "ipython",
    "version": 3
   },
   "file_extension": ".py",
   "mimetype": "text/x-python",
   "name": "python",
   "nbconvert_exporter": "python",
   "pygments_lexer": "ipython3",
   "version": "3.11.7"
  }
 },
 "nbformat": 4,
 "nbformat_minor": 5
}
